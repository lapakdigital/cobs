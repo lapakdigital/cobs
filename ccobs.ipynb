{
  "nbformat": 4,
  "nbformat_minor": 0,
  "metadata": {
    "colab": {
      "name": "ColapsGPUConect.ipynb",
      "provenance": [],
      "collapsed_sections": []
    },
    "kernelspec": {
      "name": "python3",
      "display_name": "Python 3"
    },
    "accelerator": "GPU"
  },
  "cells": [
    {
      "cell_type": "code",
      "metadata": {
        "cellView": "form",
        "id": "Sj2iTgKSmMGL"
      },
      "source": [
        "#@title FIRST .....\n",
        "\n",
        "import IPython\n",
        "from google.colab import output\n",
        "\n",
        "display(IPython.display.Javascript('''\n",
        "function ClickConnect(){\n",
        "  btn = document.querySelector(\"colab-connect-button\")\n",
        "  if (btn != null){\n",
        "    console.log(\"Click colab-connect-button\"); \n",
        "    btn.click() \n",
        "    }\n",
        "    \n",
        "  btn = document.getElementById('ok')\n",
        "  if (btn != null){\n",
        "    console.log(\"Click reconnect\"); \n",
        "    btn.click() \n",
        "    }\n",
        "  }\n",
        "    \n",
        "setInterval(ClickConnect,20000)\n",
        "'''))\n"
      ],
      "execution_count": null,
      "outputs": []
    },
    {
      "cell_type": "code",
      "metadata": {
        "id": "tAb77yZ9fzMG",
        "colab": {
          "base_uri": "https://localhost:8080/",
          "height": 405
        },
        "cellView": "form",
        "outputId": "600ee846-c3d5-416a-f6ce-3f05e7ed5aa9"
      },
      "source": [
        "#@title V100 - P100 Hunter .....\n",
        "from IPython.display import HTML\n",
        "from subprocess import getoutput\n",
        "s = getoutput('nvidia-smi')\n",
        "if 'K80' in s:\n",
        "  gpu = 'K80 - Kasian Deh Lho :)'\n",
        "elif 'T4' in s:\n",
        "  gpu = 'T4 - Lumayan...'\n",
        "elif 'P4' in s:\n",
        "  gpu = 'P4 - Boleh lha...'\n",
        "elif 'P100' in s:\n",
        "  gpu = 'P100 - Nice Gaskeun...'\n",
        "elif 'V100' in s:\n",
        "  gpu = 'V100 - Mantapuuuu...'\n",
        "display(HTML(f\"<h2>{gpu}</h2>\"))\n",
        "print(s)\n",
        "# or simply\n",
        "!nvidia-smi -L"
      ],
      "execution_count": null
     },
    {
      "cell_type": "code",
      "metadata": {
        "id": "q8MhOuYa6kjK",
        "cellView": "form"
      },
      "source": [
        "#@title **SSH** ( pw : IjinDuluBosKaloMauPake )\n",
        "\n",
        "! pip install colab_ssh --upgrade &> /dev/null\n",
        "from colab_ssh import launch_ssh, init_git\n",
        "from IPython.display import clear_output\n",
        "\n",
        "! var startClickConnect = function startClickConnect(){ var clickConnect = function clickConnect(){ console.log(\"Connnect Clicked - Start\"); document.querySelector(\"#top-toolbar > colab-connect-button\").shadowRoot.querySelector(\"#connect\").click(); console.log(\"Connnect Clicked - End\"); }; var intervalId = setInterval(clickConnect, 30000); var stopClickConnectHandler = function stopClickConnect() { console.log(\"Connnect Clicked Stopped - Start\"); clearInterval(intervalId); console.log(\"Connnect Clicked Stopped - End\"); }; return stopClickConnectHandler; }; var stopClickConnect = startClickConnect();\n",
        "\n",
        "ngrokToken = '' #@param {type:'string'}\n",
        "\n",
        "def runNGROK():\n",
        "    launch_ssh(ngrokToken, password)\n",
        "    clear_output()\n",
        "\n",
        "    print(\"ssh\", username, end='@')\n",
        "    ! curl -s http://localhost:4040/api/tunnels | python3 -c \\\n",
        "            \"import sys, json; print(json.load(sys.stdin)['tunnels'][0]['public_url'][6:].replace(':', ' -p '))\"\n",
        "\n",
        "try:\n",
        "    if username:\n",
        "        pass\n",
        "    elif password:\n",
        "        pass\n",
        "except NameError:\n",
        "    print(\"No user found using username and password as 'root'\")\n",
        "    username='root'\n",
        "    password='a'\n",
        "\n",
        "if ngrokToken == \"\":\n",
        "    print(\"No ngrokToken Found, Please enter it\")\n",
        "else:\n",
        "    runNGROK()"
      ],
      "execution_count": null,
      "outputs": []
    },
    {
      "cell_type": "code",
      "metadata": {
        "id": "MhX9WIsPSyi4",
        "cellView": "form"
      },
      "source": [
        "#@title Opsional\n",
        "\n",
        "while True:pass"
      ],
      "execution_count": null,
      "outputs": []
    }
  ]
} 
